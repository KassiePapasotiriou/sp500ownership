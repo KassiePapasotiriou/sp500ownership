{
  "nbformat": 4,
  "nbformat_minor": 0,
  "metadata": {
    "colab": {
      "name": "Results_preprocessing.ipynb",
      "provenance": [],
      "collapsed_sections": []
    },
    "kernelspec": {
      "name": "python3",
      "display_name": "Python 3"
    }
  },
  "cells": [
    {
      "cell_type": "code",
      "metadata": {
        "colab": {
          "base_uri": "https://localhost:8080/"
        },
        "id": "S4m3qy7chu_7",
        "outputId": "5ed567dc-ff7d-4323-8ec3-9f50290d120d"
      },
      "source": [
        "import pandas as pd\n",
        "from google.colab import drive\n",
        "drive.mount('/content/drive', force_remount=True)"
      ],
      "execution_count": 56,
      "outputs": [
        {
          "output_type": "stream",
          "text": [
            "Mounted at /content/drive\n"
          ],
          "name": "stdout"
        }
      ]
    },
    {
      "cell_type": "markdown",
      "metadata": {
        "id": "R5hnYl9YKkS_"
      },
      "source": [
        "# Cleveland dot plot"
      ]
    },
    {
      "cell_type": "code",
      "metadata": {
        "id": "ADRBDBJMh6eZ"
      },
      "source": [
        "symbols = pd.read_csv('/content/drive/My Drive/edav/SP500 Components.csv', index_col=False)\n"
      ],
      "execution_count": 57,
      "outputs": []
    },
    {
      "cell_type": "code",
      "metadata": {
        "id": "eA2tVUqNh-zZ"
      },
      "source": [
        "cleveland = pd.read_csv('/content/drive/My Drive/edav/final_df.csv')"
      ],
      "execution_count": 58,
      "outputs": []
    },
    {
      "cell_type": "code",
      "metadata": {
        "id": "IdUm73TTiO7-"
      },
      "source": [
        "cleveland[[\"Date\"]]=pd.to_datetime(cleveland['Date']).dt.year"
      ],
      "execution_count": 59,
      "outputs": []
    },
    {
      "cell_type": "code",
      "metadata": {
        "id": "7-624ItXi8QF"
      },
      "source": [
        "dik = dict(zip(list(symbols['Symbol'].values),list(symbols['Industry'].values)))"
      ],
      "execution_count": 60,
      "outputs": []
    },
    {
      "cell_type": "code",
      "metadata": {
        "id": "mPctPBPhihvM"
      },
      "source": [
        "cleveland['Symbol'] = cleveland['Symbol'].map(dik)"
      ],
      "execution_count": 61,
      "outputs": []
    },
    {
      "cell_type": "code",
      "metadata": {
        "id": "WG1KalQLjZfI"
      },
      "source": [
        "cleveland = cleveland[['Date','Symbol','users_holding']].groupby([\"Date\",'Symbol']).mean()\n",
        "cleveland.reset_index(inplace=True)"
      ],
      "execution_count": 62,
      "outputs": []
    },
    {
      "cell_type": "code",
      "metadata": {
        "id": "KcUoEdda3UnC"
      },
      "source": [
        "cleveland.rename(columns={'Date':'Year','users_holding':'avg_users_holding'},inplace=True)"
      ],
      "execution_count": 63,
      "outputs": []
    },
    {
      "cell_type": "code",
      "metadata": {
        "colab": {
          "base_uri": "https://localhost:8080/",
          "height": 1000
        },
        "id": "pNBByVgx3iOp",
        "outputId": "d8edf012-44a2-459f-cf6e-586cc5ed9808"
      },
      "source": [
        "cleveland"
      ],
      "execution_count": 64,
      "outputs": [
        {
          "output_type": "execute_result",
          "data": {
            "text/html": [
              "<div>\n",
              "<style scoped>\n",
              "    .dataframe tbody tr th:only-of-type {\n",
              "        vertical-align: middle;\n",
              "    }\n",
              "\n",
              "    .dataframe tbody tr th {\n",
              "        vertical-align: top;\n",
              "    }\n",
              "\n",
              "    .dataframe thead th {\n",
              "        text-align: right;\n",
              "    }\n",
              "</style>\n",
              "<table border=\"1\" class=\"dataframe\">\n",
              "  <thead>\n",
              "    <tr style=\"text-align: right;\">\n",
              "      <th></th>\n",
              "      <th>Year</th>\n",
              "      <th>Symbol</th>\n",
              "      <th>avg_users_holding</th>\n",
              "    </tr>\n",
              "  </thead>\n",
              "  <tbody>\n",
              "    <tr>\n",
              "      <th>0</th>\n",
              "      <td>2018</td>\n",
              "      <td>Communication Services</td>\n",
              "      <td>30378.013619</td>\n",
              "    </tr>\n",
              "    <tr>\n",
              "      <th>1</th>\n",
              "      <td>2018</td>\n",
              "      <td>Consumer Discretionary</td>\n",
              "      <td>9154.707010</td>\n",
              "    </tr>\n",
              "    <tr>\n",
              "      <th>2</th>\n",
              "      <td>2018</td>\n",
              "      <td>Consumer Staples</td>\n",
              "      <td>4691.787314</td>\n",
              "    </tr>\n",
              "    <tr>\n",
              "      <th>3</th>\n",
              "      <td>2018</td>\n",
              "      <td>Energy</td>\n",
              "      <td>2028.257554</td>\n",
              "    </tr>\n",
              "    <tr>\n",
              "      <th>4</th>\n",
              "      <td>2018</td>\n",
              "      <td>Financials</td>\n",
              "      <td>2737.785070</td>\n",
              "    </tr>\n",
              "    <tr>\n",
              "      <th>5</th>\n",
              "      <td>2018</td>\n",
              "      <td>Health Care</td>\n",
              "      <td>2142.391454</td>\n",
              "    </tr>\n",
              "    <tr>\n",
              "      <th>6</th>\n",
              "      <td>2018</td>\n",
              "      <td>Industrials</td>\n",
              "      <td>4610.872628</td>\n",
              "    </tr>\n",
              "    <tr>\n",
              "      <th>7</th>\n",
              "      <td>2018</td>\n",
              "      <td>Information Technology</td>\n",
              "      <td>14288.381103</td>\n",
              "    </tr>\n",
              "    <tr>\n",
              "      <th>8</th>\n",
              "      <td>2018</td>\n",
              "      <td>Materials</td>\n",
              "      <td>842.989829</td>\n",
              "    </tr>\n",
              "    <tr>\n",
              "      <th>9</th>\n",
              "      <td>2018</td>\n",
              "      <td>Real Estate</td>\n",
              "      <td>1094.739498</td>\n",
              "    </tr>\n",
              "    <tr>\n",
              "      <th>10</th>\n",
              "      <td>2018</td>\n",
              "      <td>Utilities</td>\n",
              "      <td>894.235918</td>\n",
              "    </tr>\n",
              "    <tr>\n",
              "      <th>11</th>\n",
              "      <td>2019</td>\n",
              "      <td>Communication Services</td>\n",
              "      <td>31824.549820</td>\n",
              "    </tr>\n",
              "    <tr>\n",
              "      <th>12</th>\n",
              "      <td>2019</td>\n",
              "      <td>Consumer Discretionary</td>\n",
              "      <td>11689.606954</td>\n",
              "    </tr>\n",
              "    <tr>\n",
              "      <th>13</th>\n",
              "      <td>2019</td>\n",
              "      <td>Consumer Staples</td>\n",
              "      <td>6758.363200</td>\n",
              "    </tr>\n",
              "    <tr>\n",
              "      <th>14</th>\n",
              "      <td>2019</td>\n",
              "      <td>Energy</td>\n",
              "      <td>2972.884683</td>\n",
              "    </tr>\n",
              "    <tr>\n",
              "      <th>15</th>\n",
              "      <td>2019</td>\n",
              "      <td>Financials</td>\n",
              "      <td>3302.031387</td>\n",
              "    </tr>\n",
              "    <tr>\n",
              "      <th>16</th>\n",
              "      <td>2019</td>\n",
              "      <td>Health Care</td>\n",
              "      <td>2933.535962</td>\n",
              "    </tr>\n",
              "    <tr>\n",
              "      <th>17</th>\n",
              "      <td>2019</td>\n",
              "      <td>Industrials</td>\n",
              "      <td>6789.788357</td>\n",
              "    </tr>\n",
              "    <tr>\n",
              "      <th>18</th>\n",
              "      <td>2019</td>\n",
              "      <td>Information Technology</td>\n",
              "      <td>16111.769776</td>\n",
              "    </tr>\n",
              "    <tr>\n",
              "      <th>19</th>\n",
              "      <td>2019</td>\n",
              "      <td>Materials</td>\n",
              "      <td>1039.172438</td>\n",
              "    </tr>\n",
              "    <tr>\n",
              "      <th>20</th>\n",
              "      <td>2019</td>\n",
              "      <td>Real Estate</td>\n",
              "      <td>1469.887956</td>\n",
              "    </tr>\n",
              "    <tr>\n",
              "      <th>21</th>\n",
              "      <td>2019</td>\n",
              "      <td>Utilities</td>\n",
              "      <td>1163.797464</td>\n",
              "    </tr>\n",
              "    <tr>\n",
              "      <th>22</th>\n",
              "      <td>2020</td>\n",
              "      <td>Communication Services</td>\n",
              "      <td>54582.075646</td>\n",
              "    </tr>\n",
              "    <tr>\n",
              "      <th>23</th>\n",
              "      <td>2020</td>\n",
              "      <td>Consumer Discretionary</td>\n",
              "      <td>38077.889653</td>\n",
              "    </tr>\n",
              "    <tr>\n",
              "      <th>24</th>\n",
              "      <td>2020</td>\n",
              "      <td>Consumer Staples</td>\n",
              "      <td>13209.794913</td>\n",
              "    </tr>\n",
              "    <tr>\n",
              "      <th>25</th>\n",
              "      <td>2020</td>\n",
              "      <td>Energy</td>\n",
              "      <td>21211.070439</td>\n",
              "    </tr>\n",
              "    <tr>\n",
              "      <th>26</th>\n",
              "      <td>2020</td>\n",
              "      <td>Financials</td>\n",
              "      <td>9321.027918</td>\n",
              "    </tr>\n",
              "    <tr>\n",
              "      <th>27</th>\n",
              "      <td>2020</td>\n",
              "      <td>Health Care</td>\n",
              "      <td>6578.194270</td>\n",
              "    </tr>\n",
              "    <tr>\n",
              "      <th>28</th>\n",
              "      <td>2020</td>\n",
              "      <td>Industrials</td>\n",
              "      <td>28003.179973</td>\n",
              "    </tr>\n",
              "    <tr>\n",
              "      <th>29</th>\n",
              "      <td>2020</td>\n",
              "      <td>Information Technology</td>\n",
              "      <td>23837.248627</td>\n",
              "    </tr>\n",
              "    <tr>\n",
              "      <th>30</th>\n",
              "      <td>2020</td>\n",
              "      <td>Materials</td>\n",
              "      <td>2196.390733</td>\n",
              "    </tr>\n",
              "    <tr>\n",
              "      <th>31</th>\n",
              "      <td>2020</td>\n",
              "      <td>Real Estate</td>\n",
              "      <td>3549.393720</td>\n",
              "    </tr>\n",
              "    <tr>\n",
              "      <th>32</th>\n",
              "      <td>2020</td>\n",
              "      <td>Utilities</td>\n",
              "      <td>2185.655305</td>\n",
              "    </tr>\n",
              "  </tbody>\n",
              "</table>\n",
              "</div>"
            ],
            "text/plain": [
              "    Year                  Symbol  avg_users_holding\n",
              "0   2018  Communication Services       30378.013619\n",
              "1   2018  Consumer Discretionary        9154.707010\n",
              "2   2018        Consumer Staples        4691.787314\n",
              "3   2018                  Energy        2028.257554\n",
              "4   2018              Financials        2737.785070\n",
              "5   2018             Health Care        2142.391454\n",
              "6   2018             Industrials        4610.872628\n",
              "7   2018  Information Technology       14288.381103\n",
              "8   2018               Materials         842.989829\n",
              "9   2018             Real Estate        1094.739498\n",
              "10  2018               Utilities         894.235918\n",
              "11  2019  Communication Services       31824.549820\n",
              "12  2019  Consumer Discretionary       11689.606954\n",
              "13  2019        Consumer Staples        6758.363200\n",
              "14  2019                  Energy        2972.884683\n",
              "15  2019              Financials        3302.031387\n",
              "16  2019             Health Care        2933.535962\n",
              "17  2019             Industrials        6789.788357\n",
              "18  2019  Information Technology       16111.769776\n",
              "19  2019               Materials        1039.172438\n",
              "20  2019             Real Estate        1469.887956\n",
              "21  2019               Utilities        1163.797464\n",
              "22  2020  Communication Services       54582.075646\n",
              "23  2020  Consumer Discretionary       38077.889653\n",
              "24  2020        Consumer Staples       13209.794913\n",
              "25  2020                  Energy       21211.070439\n",
              "26  2020              Financials        9321.027918\n",
              "27  2020             Health Care        6578.194270\n",
              "28  2020             Industrials       28003.179973\n",
              "29  2020  Information Technology       23837.248627\n",
              "30  2020               Materials        2196.390733\n",
              "31  2020             Real Estate        3549.393720\n",
              "32  2020               Utilities        2185.655305"
            ]
          },
          "metadata": {
            "tags": []
          },
          "execution_count": 64
        }
      ]
    },
    {
      "cell_type": "code",
      "metadata": {
        "id": "VMmwNfcVkYy4"
      },
      "source": [
        "#cleveland.to_csv(\"/content/drive/MyDrive/edav/results_data/cleveland.csv\")"
      ],
      "execution_count": 102,
      "outputs": []
    },
    {
      "cell_type": "markdown",
      "metadata": {
        "id": "_qSfpa4sbxVt"
      },
      "source": [
        "# General dataframe\n",
        "\n",
        "This dataframe is a general use dataframe( we use it for multiple plots). It contains daily data on each ticker "
      ]
    },
    {
      "cell_type": "code",
      "metadata": {
        "id": "qOiU4LA4b0Z2"
      },
      "source": [
        "data = pd.read_csv('/content/drive/My Drive/edav/final_df.csv').dropna()"
      ],
      "execution_count": 66,
      "outputs": []
    },
    {
      "cell_type": "code",
      "metadata": {
        "id": "dYkRdpq6b6PZ"
      },
      "source": [
        "dik = dict(zip(list(symbols['Symbol'].values),list(symbols['Industry'].values)))\n",
        "data['Symbol_industry'] = data['Symbol'].map(dik)"
      ],
      "execution_count": 67,
      "outputs": []
    },
    {
      "cell_type": "markdown",
      "metadata": {
        "id": "E3eEm5vne3w1"
      },
      "source": [
        "## Clustering on stock popylarity\n",
        "We need to find away to define popular stocks. \n",
        "Here we have averaged the usersholding for each company over all dates (August 18 -August 20). We then apply a simple clustering method with 3 clusters on the average 3-year users_holding of each company."
      ]
    },
    {
      "cell_type": "code",
      "metadata": {
        "colab": {
          "base_uri": "https://localhost:8080/",
          "height": 242
        },
        "id": "MG3p0SvadYtt",
        "outputId": "667af056-b76c-4912-db02-47782911b494"
      },
      "source": [
        "from sklearn.cluster import KMeans\n",
        "import seaborn\n",
        "import matplotlib.pyplot as plt\n",
        "from  matplotlib import pyplot\n",
        "\n",
        "popular = data.groupby(['Symbol']).mean().reset_index()\n",
        "kmeans_ridge = KMeans(n_clusters=3, random_state=0).fit_predict(popular[['users_holding']])\n",
        "popular['popularity_clusters'] = list(kmeans_ridge)\n",
        "popular[''] = 0\n",
        "\n",
        "fg = seaborn.FacetGrid(data=popular, hue='popularity_clusters', hue_order=[1,0,2], aspect=3)\n",
        "fg.map(pyplot.scatter, 'users_holding', '').add_legend()"
      ],
      "execution_count": 68,
      "outputs": [
        {
          "output_type": "execute_result",
          "data": {
            "text/plain": [
              "<seaborn.axisgrid.FacetGrid at 0x7fd900cc2e10>"
            ]
          },
          "metadata": {
            "tags": []
          },
          "execution_count": 68
        },
        {
          "output_type": "display_data",
          "data": {
            "image/png": "[encoded data removed]",
            "text/plain": [
              "<Figure size 751x216 with 1 Axes>"
            ]
          },
          "metadata": {
            "tags": [],
            "needs_background": "light"
          }
        }
      ]
    },
    {
      "cell_type": "code",
      "metadata": {
        "id": "lXs8MfMvfOE6"
      },
      "source": [
        "dicto = {2:'very_popular',1:'not_popular', 0:'normal'}\n",
        "\n",
        "popular['popularity'] = popular['popularity_clusters'].map(dicto)"
      ],
      "execution_count": 69,
      "outputs": []
    },
    {
      "cell_type": "code",
      "metadata": {
        "colab": {
          "base_uri": "https://localhost:8080/",
          "height": 173
        },
        "id": "YB0xqB_LTE6X",
        "outputId": "49c58947-0b51-4b04-caf0-04ecb3106e0d"
      },
      "source": [
        "popular.groupby('popularity').count()"
      ],
      "execution_count": 70,
      "outputs": [
        {
          "output_type": "execute_result",
          "data": {
            "text/html": [
              "<div>\n",
              "<style scoped>\n",
              "    .dataframe tbody tr th:only-of-type {\n",
              "        vertical-align: middle;\n",
              "    }\n",
              "\n",
              "    .dataframe tbody tr th {\n",
              "        vertical-align: top;\n",
              "    }\n",
              "\n",
              "    .dataframe thead th {\n",
              "        text-align: right;\n",
              "    }\n",
              "</style>\n",
              "<table border=\"1\" class=\"dataframe\">\n",
              "  <thead>\n",
              "    <tr style=\"text-align: right;\">\n",
              "      <th></th>\n",
              "      <th>Symbol</th>\n",
              "      <th>Adj Close</th>\n",
              "      <th>Volume</th>\n",
              "      <th>users_holding</th>\n",
              "      <th>vix_Adj_close</th>\n",
              "      <th>Mcap</th>\n",
              "      <th>popularity_clusters</th>\n",
              "      <th></th>\n",
              "    </tr>\n",
              "    <tr>\n",
              "      <th>popularity</th>\n",
              "      <th></th>\n",
              "      <th></th>\n",
              "      <th></th>\n",
              "      <th></th>\n",
              "      <th></th>\n",
              "      <th></th>\n",
              "      <th></th>\n",
              "      <th></th>\n",
              "    </tr>\n",
              "  </thead>\n",
              "  <tbody>\n",
              "    <tr>\n",
              "      <th>normal</th>\n",
              "      <td>16</td>\n",
              "      <td>16</td>\n",
              "      <td>16</td>\n",
              "      <td>16</td>\n",
              "      <td>16</td>\n",
              "      <td>16</td>\n",
              "      <td>16</td>\n",
              "      <td>16</td>\n",
              "    </tr>\n",
              "    <tr>\n",
              "      <th>not_popular</th>\n",
              "      <td>473</td>\n",
              "      <td>473</td>\n",
              "      <td>473</td>\n",
              "      <td>473</td>\n",
              "      <td>473</td>\n",
              "      <td>473</td>\n",
              "      <td>473</td>\n",
              "      <td>473</td>\n",
              "    </tr>\n",
              "    <tr>\n",
              "      <th>very_popular</th>\n",
              "      <td>5</td>\n",
              "      <td>5</td>\n",
              "      <td>5</td>\n",
              "      <td>5</td>\n",
              "      <td>5</td>\n",
              "      <td>5</td>\n",
              "      <td>5</td>\n",
              "      <td>5</td>\n",
              "    </tr>\n",
              "  </tbody>\n",
              "</table>\n",
              "</div>"
            ],
            "text/plain": [
              "              Symbol  Adj Close  Volume  ...  Mcap  popularity_clusters     \n",
              "popularity                               ...                                \n",
              "normal            16         16      16  ...    16                   16   16\n",
              "not_popular      473        473     473  ...   473                  473  473\n",
              "very_popular       5          5       5  ...     5                    5    5\n",
              "\n",
              "[3 rows x 8 columns]"
            ]
          },
          "metadata": {
            "tags": []
          },
          "execution_count": 70
        }
      ]
    },
    {
      "cell_type": "code",
      "metadata": {
        "id": "mQ8FRbtYfsBH"
      },
      "source": [
        "dik_popularity = dict(zip(list(popular['Symbol'].values),list(popular['popularity'].values)))"
      ],
      "execution_count": 71,
      "outputs": []
    },
    {
      "cell_type": "markdown",
      "metadata": {
        "id": "MUAtRT-mf_FM"
      },
      "source": [
        "### Next we assign to each stock its popularity level."
      ]
    },
    {
      "cell_type": "code",
      "metadata": {
        "id": "Nyh7RY5LgKAn"
      },
      "source": [
        "data['popularity'] = data['Symbol'].map(dik_popularity)"
      ],
      "execution_count": 72,
      "outputs": []
    },
    {
      "cell_type": "code",
      "metadata": {
        "colab": {
          "base_uri": "https://localhost:8080/",
          "height": 111
        },
        "id": "ngmSeG1GoMxI",
        "outputId": "89941ed8-9a4a-4019-c045-05536e0b49c3"
      },
      "source": [
        "data.head(2)"
      ],
      "execution_count": 73,
      "outputs": [
        {
          "output_type": "execute_result",
          "data": {
            "text/html": [
              "<div>\n",
              "<style scoped>\n",
              "    .dataframe tbody tr th:only-of-type {\n",
              "        vertical-align: middle;\n",
              "    }\n",
              "\n",
              "    .dataframe tbody tr th {\n",
              "        vertical-align: top;\n",
              "    }\n",
              "\n",
              "    .dataframe thead th {\n",
              "        text-align: right;\n",
              "    }\n",
              "</style>\n",
              "<table border=\"1\" class=\"dataframe\">\n",
              "  <thead>\n",
              "    <tr style=\"text-align: right;\">\n",
              "      <th></th>\n",
              "      <th>Date</th>\n",
              "      <th>Symbol</th>\n",
              "      <th>Adj Close</th>\n",
              "      <th>Volume</th>\n",
              "      <th>users_holding</th>\n",
              "      <th>vix_Adj_close</th>\n",
              "      <th>Mcap</th>\n",
              "      <th>Symbol_industry</th>\n",
              "      <th>popularity</th>\n",
              "    </tr>\n",
              "  </thead>\n",
              "  <tbody>\n",
              "    <tr>\n",
              "      <th>0</th>\n",
              "      <td>2018-08-01</td>\n",
              "      <td>A</td>\n",
              "      <td>63.723564</td>\n",
              "      <td>2679200.0</td>\n",
              "      <td>712.208333</td>\n",
              "      <td>13.15</td>\n",
              "      <td>20790.4891</td>\n",
              "      <td>Health Care</td>\n",
              "      <td>not_popular</td>\n",
              "    </tr>\n",
              "    <tr>\n",
              "      <th>1</th>\n",
              "      <td>2018-08-01</td>\n",
              "      <td>AAL</td>\n",
              "      <td>37.332352</td>\n",
              "      <td>7080700.0</td>\n",
              "      <td>4937.916667</td>\n",
              "      <td>13.15</td>\n",
              "      <td>17563.8215</td>\n",
              "      <td>Industrials</td>\n",
              "      <td>normal</td>\n",
              "    </tr>\n",
              "  </tbody>\n",
              "</table>\n",
              "</div>"
            ],
            "text/plain": [
              "         Date Symbol  Adj Close  ...        Mcap  Symbol_industry   popularity\n",
              "0  2018-08-01      A  63.723564  ...  20790.4891      Health Care  not_popular\n",
              "1  2018-08-01    AAL  37.332352  ...  17563.8215      Industrials       normal\n",
              "\n",
              "[2 rows x 9 columns]"
            ]
          },
          "metadata": {
            "tags": []
          },
          "execution_count": 73
        }
      ]
    },
    {
      "cell_type": "code",
      "metadata": {
        "id": "1Ro5FdwPgYsV"
      },
      "source": [
        "#data.to_csv(\"/content/drive/MyDrive/edav/results_data/data.csv\",index=False)"
      ],
      "execution_count": 74,
      "outputs": []
    },
    {
      "cell_type": "markdown",
      "metadata": {
        "id": "FvgiHzt2niDk"
      },
      "source": [
        "# Mosaic"
      ]
    },
    {
      "cell_type": "code",
      "metadata": {
        "id": "tDPtq73ZmE6f"
      },
      "source": [
        "mosaic = pd.read_csv('/content/drive/My Drive/edav/final_df.csv')\n"
      ],
      "execution_count": 75,
      "outputs": []
    },
    {
      "cell_type": "code",
      "metadata": {
        "id": "xBBpPq35mFEC"
      },
      "source": [
        "# clean up\n",
        "mosaic[[\"Date\"]]=pd.to_datetime(mosaic['Date']).dt.year\n",
        "dik = dict(zip(list(symbols['Symbol'].values),list(symbols['Industry'].values)))"
      ],
      "execution_count": 76,
      "outputs": []
    },
    {
      "cell_type": "code",
      "metadata": {
        "id": "zLNzGaD2mFEC"
      },
      "source": [
        "# avergage over the Symbol and the year\n",
        "mosaic = mosaic.groupby([\"Symbol\",'Date']).mean().reset_index()"
      ],
      "execution_count": 77,
      "outputs": []
    },
    {
      "cell_type": "code",
      "metadata": {
        "id": "mejyyjWymFEC"
      },
      "source": [
        "# add in the industry and popularity levels\n",
        "mosaic['popularity'] = mosaic['Symbol'].map(dik_popularity)\n",
        "mosaic['Symbol_industry'] = mosaic['Symbol'].map(dik)"
      ],
      "execution_count": 78,
      "outputs": []
    },
    {
      "cell_type": "code",
      "metadata": {
        "colab": {
          "base_uri": "https://localhost:8080/",
          "height": 419
        },
        "id": "jjC0Gk9stxQA",
        "outputId": "95d7161a-3aa2-45ef-d125-e345f5d28c93"
      },
      "source": [
        "mosaic"
      ],
      "execution_count": 79,
      "outputs": [
        {
          "output_type": "execute_result",
          "data": {
            "text/html": [
              "<div>\n",
              "<style scoped>\n",
              "    .dataframe tbody tr th:only-of-type {\n",
              "        vertical-align: middle;\n",
              "    }\n",
              "\n",
              "    .dataframe tbody tr th {\n",
              "        vertical-align: top;\n",
              "    }\n",
              "\n",
              "    .dataframe thead th {\n",
              "        text-align: right;\n",
              "    }\n",
              "</style>\n",
              "<table border=\"1\" class=\"dataframe\">\n",
              "  <thead>\n",
              "    <tr style=\"text-align: right;\">\n",
              "      <th></th>\n",
              "      <th>Symbol</th>\n",
              "      <th>Date</th>\n",
              "      <th>Adj Close</th>\n",
              "      <th>Volume</th>\n",
              "      <th>users_holding</th>\n",
              "      <th>vix_Adj_close</th>\n",
              "      <th>Mcap</th>\n",
              "      <th>popularity</th>\n",
              "      <th>Symbol_industry</th>\n",
              "    </tr>\n",
              "  </thead>\n",
              "  <tbody>\n",
              "    <tr>\n",
              "      <th>0</th>\n",
              "      <td>A</td>\n",
              "      <td>2018</td>\n",
              "      <td>66.118280</td>\n",
              "      <td>2.573137e+06</td>\n",
              "      <td>698.947447</td>\n",
              "      <td>17.716762</td>\n",
              "      <td>21468.093648</td>\n",
              "      <td>not_popular</td>\n",
              "      <td>Health Care</td>\n",
              "    </tr>\n",
              "    <tr>\n",
              "      <th>1</th>\n",
              "      <td>A</td>\n",
              "      <td>2019</td>\n",
              "      <td>74.338824</td>\n",
              "      <td>2.157036e+06</td>\n",
              "      <td>1084.103682</td>\n",
              "      <td>15.387857</td>\n",
              "      <td>23629.122120</td>\n",
              "      <td>not_popular</td>\n",
              "      <td>Health Care</td>\n",
              "    </tr>\n",
              "    <tr>\n",
              "      <th>2</th>\n",
              "      <td>A</td>\n",
              "      <td>2020</td>\n",
              "      <td>82.527103</td>\n",
              "      <td>2.143667e+06</td>\n",
              "      <td>1354.405331</td>\n",
              "      <td>31.969456</td>\n",
              "      <td>25655.425571</td>\n",
              "      <td>not_popular</td>\n",
              "      <td>Health Care</td>\n",
              "    </tr>\n",
              "    <tr>\n",
              "      <th>3</th>\n",
              "      <td>AAL</td>\n",
              "      <td>2018</td>\n",
              "      <td>36.048765</td>\n",
              "      <td>8.253767e+06</td>\n",
              "      <td>6108.612375</td>\n",
              "      <td>17.716762</td>\n",
              "      <td>16901.940279</td>\n",
              "      <td>normal</td>\n",
              "      <td>Industrials</td>\n",
              "    </tr>\n",
              "    <tr>\n",
              "      <th>4</th>\n",
              "      <td>AAL</td>\n",
              "      <td>2019</td>\n",
              "      <td>30.571997</td>\n",
              "      <td>6.993250e+06</td>\n",
              "      <td>9504.058975</td>\n",
              "      <td>15.387857</td>\n",
              "      <td>13803.752485</td>\n",
              "      <td>normal</td>\n",
              "      <td>Industrials</td>\n",
              "    </tr>\n",
              "    <tr>\n",
              "      <th>...</th>\n",
              "      <td>...</td>\n",
              "      <td>...</td>\n",
              "      <td>...</td>\n",
              "      <td>...</td>\n",
              "      <td>...</td>\n",
              "      <td>...</td>\n",
              "      <td>...</td>\n",
              "      <td>...</td>\n",
              "      <td>...</td>\n",
              "    </tr>\n",
              "    <tr>\n",
              "      <th>1526</th>\n",
              "      <td>ZION</td>\n",
              "      <td>2019</td>\n",
              "      <td>44.107602</td>\n",
              "      <td>2.238429e+06</td>\n",
              "      <td>268.641122</td>\n",
              "      <td>15.387857</td>\n",
              "      <td>8365.479997</td>\n",
              "      <td>not_popular</td>\n",
              "      <td>Financials</td>\n",
              "    </tr>\n",
              "    <tr>\n",
              "      <th>1527</th>\n",
              "      <td>ZION</td>\n",
              "      <td>2020</td>\n",
              "      <td>34.860722</td>\n",
              "      <td>3.076903e+06</td>\n",
              "      <td>502.915137</td>\n",
              "      <td>31.969456</td>\n",
              "      <td>5914.069654</td>\n",
              "      <td>not_popular</td>\n",
              "      <td>Financials</td>\n",
              "    </tr>\n",
              "    <tr>\n",
              "      <th>1528</th>\n",
              "      <td>ZTS</td>\n",
              "      <td>2018</td>\n",
              "      <td>88.985529</td>\n",
              "      <td>2.284765e+06</td>\n",
              "      <td>842.200433</td>\n",
              "      <td>17.716762</td>\n",
              "      <td>43394.485023</td>\n",
              "      <td>not_popular</td>\n",
              "      <td>Health Care</td>\n",
              "    </tr>\n",
              "    <tr>\n",
              "      <th>1529</th>\n",
              "      <td>ZTS</td>\n",
              "      <td>2019</td>\n",
              "      <td>109.507183</td>\n",
              "      <td>2.110229e+06</td>\n",
              "      <td>1248.292491</td>\n",
              "      <td>15.387857</td>\n",
              "      <td>52777.773976</td>\n",
              "      <td>not_popular</td>\n",
              "      <td>Health Care</td>\n",
              "    </tr>\n",
              "    <tr>\n",
              "      <th>1530</th>\n",
              "      <td>ZTS</td>\n",
              "      <td>2020</td>\n",
              "      <td>132.398525</td>\n",
              "      <td>2.303719e+06</td>\n",
              "      <td>2014.589655</td>\n",
              "      <td>31.969456</td>\n",
              "      <td>63131.899570</td>\n",
              "      <td>not_popular</td>\n",
              "      <td>Health Care</td>\n",
              "    </tr>\n",
              "  </tbody>\n",
              "</table>\n",
              "<p>1531 rows × 9 columns</p>\n",
              "</div>"
            ],
            "text/plain": [
              "     Symbol  Date   Adj Close  ...          Mcap   popularity  Symbol_industry\n",
              "0         A  2018   66.118280  ...  21468.093648  not_popular      Health Care\n",
              "1         A  2019   74.338824  ...  23629.122120  not_popular      Health Care\n",
              "2         A  2020   82.527103  ...  25655.425571  not_popular      Health Care\n",
              "3       AAL  2018   36.048765  ...  16901.940279       normal      Industrials\n",
              "4       AAL  2019   30.571997  ...  13803.752485       normal      Industrials\n",
              "...     ...   ...         ...  ...           ...          ...              ...\n",
              "1526   ZION  2019   44.107602  ...   8365.479997  not_popular       Financials\n",
              "1527   ZION  2020   34.860722  ...   5914.069654  not_popular       Financials\n",
              "1528    ZTS  2018   88.985529  ...  43394.485023  not_popular      Health Care\n",
              "1529    ZTS  2019  109.507183  ...  52777.773976  not_popular      Health Care\n",
              "1530    ZTS  2020  132.398525  ...  63131.899570  not_popular      Health Care\n",
              "\n",
              "[1531 rows x 9 columns]"
            ]
          },
          "metadata": {
            "tags": []
          },
          "execution_count": 79
        }
      ]
    },
    {
      "cell_type": "markdown",
      "metadata": {
        "id": "raXxnYYglvqy"
      },
      "source": [
        "Clustering in years founded"
      ]
    },
    {
      "cell_type": "code",
      "metadata": {
        "id": "ACz1CZfzvi9B"
      },
      "source": [
        "years = symbols[['Year_Founded']].dropna().astype(int).sort_values(by='Year_Founded')\n",
        "years.dropna(inplace=True)\n",
        "dik_mosaic = dict(zip(list(symbols['Symbol'].values),list(symbols['Year_Founded'].dropna().astype(int).values)))\n"
      ],
      "execution_count": 80,
      "outputs": []
    },
    {
      "cell_type": "code",
      "metadata": {
        "id": "x986fx5-nkQY"
      },
      "source": [
        "mosaic['Year_Founded'] = mosaic['Symbol'].map(dik_mosaic)\n",
        "mosaic.dropna(inplace=True)"
      ],
      "execution_count": 81,
      "outputs": []
    },
    {
      "cell_type": "code",
      "metadata": {
        "id": "8aN6Rcg_w4iX"
      },
      "source": [
        "kmeans = KMeans(n_clusters=3, random_state=0).fit_predict(mosaic[['Year_Founded']])\n",
        "mosaic['ages'] = list(kmeans)"
      ],
      "execution_count": 82,
      "outputs": []
    },
    {
      "cell_type": "code",
      "metadata": {
        "colab": {
          "base_uri": "https://localhost:8080/",
          "height": 242
        },
        "id": "GYYBYLVVxC_t",
        "outputId": "89ecad71-58f9-4ee4-851a-968b00c5bd9a"
      },
      "source": [
        "# this block is just for plotting the clusters\n",
        "ages = mosaic.copy()\n",
        "ages['ages_clusters']=ages['ages']\n",
        "ages[''] = 0\n",
        "fg = seaborn.FacetGrid(data=ages, hue='ages_clusters', hue_order=[1,2,0], aspect=3.4)\n",
        "fg.map(pyplot.scatter, 'Year_Founded','').add_legend()"
      ],
      "execution_count": 83,
      "outputs": [
        {
          "output_type": "execute_result",
          "data": {
            "text/plain": [
              "<seaborn.axisgrid.FacetGrid at 0x7fd9162f8dd8>"
            ]
          },
          "metadata": {
            "tags": []
          },
          "execution_count": 83
        },
        {
          "output_type": "display_data",
          "data": {
            "image/png": "[encoded data removed]",
            "text/plain": [
              "<Figure size 810.65x216 with 1 Axes>"
            ]
          },
          "metadata": {
            "tags": [],
            "needs_background": "light"
          }
        }
      ]
    },
    {
      "cell_type": "code",
      "metadata": {
        "colab": {
          "base_uri": "https://localhost:8080/",
          "height": 297
        },
        "id": "cY6NITOXvedk",
        "outputId": "38ddd529-7d36-4a33-cab8-dcb0589e43ff"
      },
      "source": [
        "mosaic.loc[mosaic['ages'] == 2][['Year_Founded']].describe()\n"
      ],
      "execution_count": 84,
      "outputs": [
        {
          "output_type": "execute_result",
          "data": {
            "text/html": [
              "<div>\n",
              "<style scoped>\n",
              "    .dataframe tbody tr th:only-of-type {\n",
              "        vertical-align: middle;\n",
              "    }\n",
              "\n",
              "    .dataframe tbody tr th {\n",
              "        vertical-align: top;\n",
              "    }\n",
              "\n",
              "    .dataframe thead th {\n",
              "        text-align: right;\n",
              "    }\n",
              "</style>\n",
              "<table border=\"1\" class=\"dataframe\">\n",
              "  <thead>\n",
              "    <tr style=\"text-align: right;\">\n",
              "      <th></th>\n",
              "      <th>Year_Founded</th>\n",
              "    </tr>\n",
              "  </thead>\n",
              "  <tbody>\n",
              "    <tr>\n",
              "      <th>count</th>\n",
              "      <td>400.000000</td>\n",
              "    </tr>\n",
              "    <tr>\n",
              "      <th>mean</th>\n",
              "      <td>1921.657500</td>\n",
              "    </tr>\n",
              "    <tr>\n",
              "      <th>std</th>\n",
              "      <td>16.166434</td>\n",
              "    </tr>\n",
              "    <tr>\n",
              "      <th>min</th>\n",
              "      <td>1894.000000</td>\n",
              "    </tr>\n",
              "    <tr>\n",
              "      <th>25%</th>\n",
              "      <td>1906.000000</td>\n",
              "    </tr>\n",
              "    <tr>\n",
              "      <th>50%</th>\n",
              "      <td>1920.000000</td>\n",
              "    </tr>\n",
              "    <tr>\n",
              "      <th>75%</th>\n",
              "      <td>1935.000000</td>\n",
              "    </tr>\n",
              "    <tr>\n",
              "      <th>max</th>\n",
              "      <td>1952.000000</td>\n",
              "    </tr>\n",
              "  </tbody>\n",
              "</table>\n",
              "</div>"
            ],
            "text/plain": [
              "       Year_Founded\n",
              "count    400.000000\n",
              "mean    1921.657500\n",
              "std       16.166434\n",
              "min     1894.000000\n",
              "25%     1906.000000\n",
              "50%     1920.000000\n",
              "75%     1935.000000\n",
              "max     1952.000000"
            ]
          },
          "metadata": {
            "tags": []
          },
          "execution_count": 84
        }
      ]
    },
    {
      "cell_type": "markdown",
      "metadata": {
        "id": "B3Z4GQiTnNHG"
      },
      "source": [
        "give the clusters more meaningful names by looking at the founded date range for each cluster"
      ]
    },
    {
      "cell_type": "code",
      "metadata": {
        "id": "3eSC2S2qvJYt"
      },
      "source": [
        "dicto3 = {1:'1784-1892', 2:'1894-1952', 0:'1954-2019'}\n",
        "\n",
        "mosaic['ages'] = mosaic['ages'].map(dicto3)\n",
        "mosaic['Founded_range'] = mosaic['ages'].rename({'ages':'Founded_range'})"
      ],
      "execution_count": 85,
      "outputs": []
    },
    {
      "cell_type": "code",
      "metadata": {
        "colab": {
          "base_uri": "https://localhost:8080/",
          "height": 419
        },
        "id": "xcwt1MsshcQd",
        "outputId": "11925d7f-119b-473b-9eea-694ee0cf1f2f"
      },
      "source": [
        "mosaic.drop(columns=[\"ages\"])"
      ],
      "execution_count": 86,
      "outputs": [
        {
          "output_type": "execute_result",
          "data": {
            "text/html": [
              "<div>\n",
              "<style scoped>\n",
              "    .dataframe tbody tr th:only-of-type {\n",
              "        vertical-align: middle;\n",
              "    }\n",
              "\n",
              "    .dataframe tbody tr th {\n",
              "        vertical-align: top;\n",
              "    }\n",
              "\n",
              "    .dataframe thead th {\n",
              "        text-align: right;\n",
              "    }\n",
              "</style>\n",
              "<table border=\"1\" class=\"dataframe\">\n",
              "  <thead>\n",
              "    <tr style=\"text-align: right;\">\n",
              "      <th></th>\n",
              "      <th>Symbol</th>\n",
              "      <th>Date</th>\n",
              "      <th>Adj Close</th>\n",
              "      <th>Volume</th>\n",
              "      <th>users_holding</th>\n",
              "      <th>vix_Adj_close</th>\n",
              "      <th>Mcap</th>\n",
              "      <th>popularity</th>\n",
              "      <th>Symbol_industry</th>\n",
              "      <th>Year_Founded</th>\n",
              "      <th>Founded_range</th>\n",
              "    </tr>\n",
              "  </thead>\n",
              "  <tbody>\n",
              "    <tr>\n",
              "      <th>0</th>\n",
              "      <td>A</td>\n",
              "      <td>2018</td>\n",
              "      <td>66.118280</td>\n",
              "      <td>2.573137e+06</td>\n",
              "      <td>698.947447</td>\n",
              "      <td>17.716762</td>\n",
              "      <td>21468.093648</td>\n",
              "      <td>not_popular</td>\n",
              "      <td>Health Care</td>\n",
              "      <td>1999.0</td>\n",
              "      <td>1954-2019</td>\n",
              "    </tr>\n",
              "    <tr>\n",
              "      <th>1</th>\n",
              "      <td>A</td>\n",
              "      <td>2019</td>\n",
              "      <td>74.338824</td>\n",
              "      <td>2.157036e+06</td>\n",
              "      <td>1084.103682</td>\n",
              "      <td>15.387857</td>\n",
              "      <td>23629.122120</td>\n",
              "      <td>not_popular</td>\n",
              "      <td>Health Care</td>\n",
              "      <td>1999.0</td>\n",
              "      <td>1954-2019</td>\n",
              "    </tr>\n",
              "    <tr>\n",
              "      <th>2</th>\n",
              "      <td>A</td>\n",
              "      <td>2020</td>\n",
              "      <td>82.527103</td>\n",
              "      <td>2.143667e+06</td>\n",
              "      <td>1354.405331</td>\n",
              "      <td>31.969456</td>\n",
              "      <td>25655.425571</td>\n",
              "      <td>not_popular</td>\n",
              "      <td>Health Care</td>\n",
              "      <td>1999.0</td>\n",
              "      <td>1954-2019</td>\n",
              "    </tr>\n",
              "    <tr>\n",
              "      <th>3</th>\n",
              "      <td>AAL</td>\n",
              "      <td>2018</td>\n",
              "      <td>36.048765</td>\n",
              "      <td>8.253767e+06</td>\n",
              "      <td>6108.612375</td>\n",
              "      <td>17.716762</td>\n",
              "      <td>16901.940279</td>\n",
              "      <td>normal</td>\n",
              "      <td>Industrials</td>\n",
              "      <td>1934.0</td>\n",
              "      <td>1894-1952</td>\n",
              "    </tr>\n",
              "    <tr>\n",
              "      <th>4</th>\n",
              "      <td>AAL</td>\n",
              "      <td>2019</td>\n",
              "      <td>30.571997</td>\n",
              "      <td>6.993250e+06</td>\n",
              "      <td>9504.058975</td>\n",
              "      <td>15.387857</td>\n",
              "      <td>13803.752485</td>\n",
              "      <td>normal</td>\n",
              "      <td>Industrials</td>\n",
              "      <td>1934.0</td>\n",
              "      <td>1894-1952</td>\n",
              "    </tr>\n",
              "    <tr>\n",
              "      <th>...</th>\n",
              "      <td>...</td>\n",
              "      <td>...</td>\n",
              "      <td>...</td>\n",
              "      <td>...</td>\n",
              "      <td>...</td>\n",
              "      <td>...</td>\n",
              "      <td>...</td>\n",
              "      <td>...</td>\n",
              "      <td>...</td>\n",
              "      <td>...</td>\n",
              "      <td>...</td>\n",
              "    </tr>\n",
              "    <tr>\n",
              "      <th>1520</th>\n",
              "      <td>ZBH</td>\n",
              "      <td>2019</td>\n",
              "      <td>127.053566</td>\n",
              "      <td>1.130505e+06</td>\n",
              "      <td>186.605161</td>\n",
              "      <td>15.387857</td>\n",
              "      <td>26312.019774</td>\n",
              "      <td>not_popular</td>\n",
              "      <td>Health Care</td>\n",
              "      <td>1873.0</td>\n",
              "      <td>1784-1892</td>\n",
              "    </tr>\n",
              "    <tr>\n",
              "      <th>1521</th>\n",
              "      <td>ZBH</td>\n",
              "      <td>2020</td>\n",
              "      <td>126.404630</td>\n",
              "      <td>1.628950e+06</td>\n",
              "      <td>680.685216</td>\n",
              "      <td>31.969456</td>\n",
              "      <td>26209.758586</td>\n",
              "      <td>not_popular</td>\n",
              "      <td>Health Care</td>\n",
              "      <td>1873.0</td>\n",
              "      <td>1784-1892</td>\n",
              "    </tr>\n",
              "    <tr>\n",
              "      <th>1522</th>\n",
              "      <td>ZBRA</td>\n",
              "      <td>2018</td>\n",
              "      <td>166.740952</td>\n",
              "      <td>4.460657e+05</td>\n",
              "      <td>321.882860</td>\n",
              "      <td>17.716762</td>\n",
              "      <td>8957.792389</td>\n",
              "      <td>not_popular</td>\n",
              "      <td>Information Technology</td>\n",
              "      <td>1952.0</td>\n",
              "      <td>1894-1952</td>\n",
              "    </tr>\n",
              "    <tr>\n",
              "      <th>1523</th>\n",
              "      <td>ZBRA</td>\n",
              "      <td>2019</td>\n",
              "      <td>206.708492</td>\n",
              "      <td>5.633972e+05</td>\n",
              "      <td>711.230348</td>\n",
              "      <td>15.387857</td>\n",
              "      <td>11155.455227</td>\n",
              "      <td>not_popular</td>\n",
              "      <td>Information Technology</td>\n",
              "      <td>1952.0</td>\n",
              "      <td>1894-1952</td>\n",
              "    </tr>\n",
              "    <tr>\n",
              "      <th>1524</th>\n",
              "      <td>ZBRA</td>\n",
              "      <td>2020</td>\n",
              "      <td>235.211633</td>\n",
              "      <td>4.599578e+05</td>\n",
              "      <td>860.818710</td>\n",
              "      <td>31.969456</td>\n",
              "      <td>12572.725662</td>\n",
              "      <td>not_popular</td>\n",
              "      <td>Information Technology</td>\n",
              "      <td>1952.0</td>\n",
              "      <td>1894-1952</td>\n",
              "    </tr>\n",
              "  </tbody>\n",
              "</table>\n",
              "<p>1445 rows × 11 columns</p>\n",
              "</div>"
            ],
            "text/plain": [
              "     Symbol  Date  ...  Year_Founded  Founded_range\n",
              "0         A  2018  ...        1999.0      1954-2019\n",
              "1         A  2019  ...        1999.0      1954-2019\n",
              "2         A  2020  ...        1999.0      1954-2019\n",
              "3       AAL  2018  ...        1934.0      1894-1952\n",
              "4       AAL  2019  ...        1934.0      1894-1952\n",
              "...     ...   ...  ...           ...            ...\n",
              "1520    ZBH  2019  ...        1873.0      1784-1892\n",
              "1521    ZBH  2020  ...        1873.0      1784-1892\n",
              "1522   ZBRA  2018  ...        1952.0      1894-1952\n",
              "1523   ZBRA  2019  ...        1952.0      1894-1952\n",
              "1524   ZBRA  2020  ...        1952.0      1894-1952\n",
              "\n",
              "[1445 rows x 11 columns]"
            ]
          },
          "metadata": {
            "tags": []
          },
          "execution_count": 86
        }
      ]
    },
    {
      "cell_type": "code",
      "metadata": {
        "id": "DM2g88EDsPL_"
      },
      "source": [
        "mosaic = pd.DataFrame(mosaic.groupby(['Symbol_industry',\"Founded_range\",'popularity']).size()).reset_index()"
      ],
      "execution_count": 87,
      "outputs": []
    },
    {
      "cell_type": "code",
      "metadata": {
        "id": "zszVkK7muvHd"
      },
      "source": [
        "mosaic = mosaic.rename({0:'freq'},axis=1)"
      ],
      "execution_count": 88,
      "outputs": []
    },
    {
      "cell_type": "code",
      "metadata": {
        "id": "EdUiiIctb9Y5"
      },
      "source": [
        "#mosaic.to_csv(\"/content/drive/MyDrive/edav/results_data/mosaic.csv\",index=False)"
      ],
      "execution_count": 89,
      "outputs": []
    },
    {
      "cell_type": "markdown",
      "metadata": {
        "id": "PEObss_iY-D7"
      },
      "source": [
        "# Experiments"
      ]
    },
    {
      "cell_type": "code",
      "metadata": {
        "colab": {
          "base_uri": "https://localhost:8080/",
          "height": 419
        },
        "id": "HyR00t0-OuZI",
        "outputId": "d5f6011c-5390-49f7-8d43-c2afecacb81c"
      },
      "source": [
        "df = pd.read_csv('/content/drive/My Drive/edav/final_df.csv')\n",
        "df"
      ],
      "execution_count": 90,
      "outputs": [
        {
          "output_type": "execute_result",
          "data": {
            "text/html": [
              "<div>\n",
              "<style scoped>\n",
              "    .dataframe tbody tr th:only-of-type {\n",
              "        vertical-align: middle;\n",
              "    }\n",
              "\n",
              "    .dataframe tbody tr th {\n",
              "        vertical-align: top;\n",
              "    }\n",
              "\n",
              "    .dataframe thead th {\n",
              "        text-align: right;\n",
              "    }\n",
              "</style>\n",
              "<table border=\"1\" class=\"dataframe\">\n",
              "  <thead>\n",
              "    <tr style=\"text-align: right;\">\n",
              "      <th></th>\n",
              "      <th>Date</th>\n",
              "      <th>Symbol</th>\n",
              "      <th>Adj Close</th>\n",
              "      <th>Volume</th>\n",
              "      <th>users_holding</th>\n",
              "      <th>vix_Adj_close</th>\n",
              "      <th>Mcap</th>\n",
              "    </tr>\n",
              "  </thead>\n",
              "  <tbody>\n",
              "    <tr>\n",
              "      <th>0</th>\n",
              "      <td>2018-08-01</td>\n",
              "      <td>A</td>\n",
              "      <td>63.723564</td>\n",
              "      <td>2679200.0</td>\n",
              "      <td>712.208333</td>\n",
              "      <td>13.150000</td>\n",
              "      <td>20790.4891</td>\n",
              "    </tr>\n",
              "    <tr>\n",
              "      <th>1</th>\n",
              "      <td>2018-08-01</td>\n",
              "      <td>AAL</td>\n",
              "      <td>37.332352</td>\n",
              "      <td>7080700.0</td>\n",
              "      <td>4937.916667</td>\n",
              "      <td>13.150000</td>\n",
              "      <td>17563.8215</td>\n",
              "    </tr>\n",
              "    <tr>\n",
              "      <th>2</th>\n",
              "      <td>2018-08-01</td>\n",
              "      <td>AAP</td>\n",
              "      <td>138.336090</td>\n",
              "      <td>540200.0</td>\n",
              "      <td>283.958333</td>\n",
              "      <td>13.150000</td>\n",
              "      <td>10345.8757</td>\n",
              "    </tr>\n",
              "    <tr>\n",
              "      <th>3</th>\n",
              "      <td>2018-08-01</td>\n",
              "      <td>AAPL</td>\n",
              "      <td>48.465130</td>\n",
              "      <td>271742800.0</td>\n",
              "      <td>154792.750000</td>\n",
              "      <td>13.150000</td>\n",
              "      <td>973230.0890</td>\n",
              "    </tr>\n",
              "    <tr>\n",
              "      <th>4</th>\n",
              "      <td>2018-08-01</td>\n",
              "      <td>ABBV</td>\n",
              "      <td>82.121834</td>\n",
              "      <td>5330400.0</td>\n",
              "      <td>14192.750000</td>\n",
              "      <td>13.150000</td>\n",
              "      <td>142185.7424</td>\n",
              "    </tr>\n",
              "    <tr>\n",
              "      <th>...</th>\n",
              "      <td>...</td>\n",
              "      <td>...</td>\n",
              "      <td>...</td>\n",
              "      <td>...</td>\n",
              "      <td>...</td>\n",
              "      <td>...</td>\n",
              "      <td>...</td>\n",
              "    </tr>\n",
              "    <tr>\n",
              "      <th>257060</th>\n",
              "      <td>2020-07-31</td>\n",
              "      <td>YUM</td>\n",
              "      <td>90.606827</td>\n",
              "      <td>1914900.0</td>\n",
              "      <td>6601.333333</td>\n",
              "      <td>24.459999</td>\n",
              "      <td>27406.0500</td>\n",
              "    </tr>\n",
              "    <tr>\n",
              "      <th>257061</th>\n",
              "      <td>2020-07-31</td>\n",
              "      <td>ZBH</td>\n",
              "      <td>134.622543</td>\n",
              "      <td>1309300.0</td>\n",
              "      <td>1023.750000</td>\n",
              "      <td>24.459999</td>\n",
              "      <td>27889.3330</td>\n",
              "    </tr>\n",
              "    <tr>\n",
              "      <th>257062</th>\n",
              "      <td>2020-07-31</td>\n",
              "      <td>ZBRA</td>\n",
              "      <td>280.750000</td>\n",
              "      <td>472800.0</td>\n",
              "      <td>1076.333333</td>\n",
              "      <td>24.459999</td>\n",
              "      <td>14975.1612</td>\n",
              "    </tr>\n",
              "    <tr>\n",
              "      <th>257063</th>\n",
              "      <td>2020-07-31</td>\n",
              "      <td>ZION</td>\n",
              "      <td>31.881811</td>\n",
              "      <td>1442500.0</td>\n",
              "      <td>717.916667</td>\n",
              "      <td>24.459999</td>\n",
              "      <td>5324.3657</td>\n",
              "    </tr>\n",
              "    <tr>\n",
              "      <th>257064</th>\n",
              "      <td>2020-07-31</td>\n",
              "      <td>ZTS</td>\n",
              "      <td>151.490372</td>\n",
              "      <td>2250100.0</td>\n",
              "      <td>2520.083333</td>\n",
              "      <td>24.459999</td>\n",
              "      <td>72039.0163</td>\n",
              "    </tr>\n",
              "  </tbody>\n",
              "</table>\n",
              "<p>257065 rows × 7 columns</p>\n",
              "</div>"
            ],
            "text/plain": [
              "              Date Symbol  ...  vix_Adj_close         Mcap\n",
              "0       2018-08-01      A  ...      13.150000   20790.4891\n",
              "1       2018-08-01    AAL  ...      13.150000   17563.8215\n",
              "2       2018-08-01    AAP  ...      13.150000   10345.8757\n",
              "3       2018-08-01   AAPL  ...      13.150000  973230.0890\n",
              "4       2018-08-01   ABBV  ...      13.150000  142185.7424\n",
              "...            ...    ...  ...            ...          ...\n",
              "257060  2020-07-31    YUM  ...      24.459999   27406.0500\n",
              "257061  2020-07-31    ZBH  ...      24.459999   27889.3330\n",
              "257062  2020-07-31   ZBRA  ...      24.459999   14975.1612\n",
              "257063  2020-07-31   ZION  ...      24.459999    5324.3657\n",
              "257064  2020-07-31    ZTS  ...      24.459999   72039.0163\n",
              "\n",
              "[257065 rows x 7 columns]"
            ]
          },
          "metadata": {
            "tags": []
          },
          "execution_count": 90
        }
      ]
    },
    {
      "cell_type": "code",
      "metadata": {
        "id": "IR6HvacCPHOG"
      },
      "source": [
        "apple = df.loc[df['Symbol'] == \"AAPL\"]"
      ],
      "execution_count": 91,
      "outputs": []
    },
    {
      "cell_type": "code",
      "metadata": {
        "id": "HMz3Jj7lPPcr"
      },
      "source": [
        ""
      ],
      "execution_count": 91,
      "outputs": []
    },
    {
      "cell_type": "code",
      "metadata": {
        "colab": {
          "base_uri": "https://localhost:8080/",
          "height": 296
        },
        "id": "gI22eM9EPcL5",
        "outputId": "b3b34cd1-0af5-45b9-c2b8-9cefde494381"
      },
      "source": [
        "apple[['Date','users_holding']].set_index('Date').plot()"
      ],
      "execution_count": 92,
      "outputs": [
        {
          "output_type": "execute_result",
          "data": {
            "text/plain": [
              "<matplotlib.axes._subplots.AxesSubplot at 0x7fd900b68208>"
            ]
          },
          "metadata": {
            "tags": []
          },
          "execution_count": 92
        },
        {
          "output_type": "display_data",
          "data": {
            "image/png": "[encoded data removed]",
            "text/plain": [
              "<Figure size 432x288 with 1 Axes>"
            ]
          },
          "metadata": {
            "tags": [],
            "needs_background": "light"
          }
        }
      ]
    },
    {
      "cell_type": "code",
      "metadata": {
        "colab": {
          "base_uri": "https://localhost:8080/",
          "height": 450
        },
        "id": "vZGRWKGgP5RJ",
        "outputId": "77f1ebda-533e-472e-fd5c-f6ea6ea256bc"
      },
      "source": [
        "apple[['Date','users_holding']].set_index('Date')"
      ],
      "execution_count": 93,
      "outputs": [
        {
          "output_type": "execute_result",
          "data": {
            "text/html": [
              "<div>\n",
              "<style scoped>\n",
              "    .dataframe tbody tr th:only-of-type {\n",
              "        vertical-align: middle;\n",
              "    }\n",
              "\n",
              "    .dataframe tbody tr th {\n",
              "        vertical-align: top;\n",
              "    }\n",
              "\n",
              "    .dataframe thead th {\n",
              "        text-align: right;\n",
              "    }\n",
              "</style>\n",
              "<table border=\"1\" class=\"dataframe\">\n",
              "  <thead>\n",
              "    <tr style=\"text-align: right;\">\n",
              "      <th></th>\n",
              "      <th>users_holding</th>\n",
              "    </tr>\n",
              "    <tr>\n",
              "      <th>Date</th>\n",
              "      <th></th>\n",
              "    </tr>\n",
              "  </thead>\n",
              "  <tbody>\n",
              "    <tr>\n",
              "      <th>2018-08-01</th>\n",
              "      <td>154792.750000</td>\n",
              "    </tr>\n",
              "    <tr>\n",
              "      <th>2018-08-02</th>\n",
              "      <td>155067.041667</td>\n",
              "    </tr>\n",
              "    <tr>\n",
              "      <th>2018-08-03</th>\n",
              "      <td>156316.666667</td>\n",
              "    </tr>\n",
              "    <tr>\n",
              "      <th>2018-08-06</th>\n",
              "      <td>156329.500000</td>\n",
              "    </tr>\n",
              "    <tr>\n",
              "      <th>2018-08-07</th>\n",
              "      <td>156652.791667</td>\n",
              "    </tr>\n",
              "    <tr>\n",
              "      <th>...</th>\n",
              "      <td>...</td>\n",
              "    </tr>\n",
              "    <tr>\n",
              "      <th>2020-07-27</th>\n",
              "      <td>572684.708333</td>\n",
              "    </tr>\n",
              "    <tr>\n",
              "      <th>2020-07-28</th>\n",
              "      <td>575189.166667</td>\n",
              "    </tr>\n",
              "    <tr>\n",
              "      <th>2020-07-29</th>\n",
              "      <td>575854.791667</td>\n",
              "    </tr>\n",
              "    <tr>\n",
              "      <th>2020-07-30</th>\n",
              "      <td>575826.791667</td>\n",
              "    </tr>\n",
              "    <tr>\n",
              "      <th>2020-07-31</th>\n",
              "      <td>589233.041667</td>\n",
              "    </tr>\n",
              "  </tbody>\n",
              "</table>\n",
              "<p>504 rows × 1 columns</p>\n",
              "</div>"
            ],
            "text/plain": [
              "            users_holding\n",
              "Date                     \n",
              "2018-08-01  154792.750000\n",
              "2018-08-02  155067.041667\n",
              "2018-08-03  156316.666667\n",
              "2018-08-06  156329.500000\n",
              "2018-08-07  156652.791667\n",
              "...                   ...\n",
              "2020-07-27  572684.708333\n",
              "2020-07-28  575189.166667\n",
              "2020-07-29  575854.791667\n",
              "2020-07-30  575826.791667\n",
              "2020-07-31  589233.041667\n",
              "\n",
              "[504 rows x 1 columns]"
            ]
          },
          "metadata": {
            "tags": []
          },
          "execution_count": 93
        }
      ]
    },
    {
      "cell_type": "markdown",
      "metadata": {
        "id": "eyUMvkHaKoCg"
      },
      "source": [
        "## Moer"
      ]
    },
    {
      "cell_type": "code",
      "metadata": {
        "id": "oWLsI_GXsUfm"
      },
      "source": [
        "df2 = pd.read_csv('/content/drive/My Drive/edav/final_df.csv')"
      ],
      "execution_count": 94,
      "outputs": []
    },
    {
      "cell_type": "code",
      "metadata": {
        "id": "KtlwOJnDK_qL"
      },
      "source": [
        "df2[[\"Date\"]]=pd.to_datetime(df2['Date']).dt.year"
      ],
      "execution_count": 95,
      "outputs": []
    },
    {
      "cell_type": "code",
      "metadata": {
        "id": "tU-h1rpqM1DU"
      },
      "source": [
        "dik = dict(zip(list(symbols['Symbol'].values),list(symbols['Industry'].values)))"
      ],
      "execution_count": 96,
      "outputs": []
    },
    {
      "cell_type": "code",
      "metadata": {
        "id": "zNmq0zYDMJm2"
      },
      "source": [
        "df2 = df2.groupby([\"Symbol\",'Date']).mean().reset_index()"
      ],
      "execution_count": 97,
      "outputs": []
    },
    {
      "cell_type": "code",
      "metadata": {
        "id": "SuJqdusbNEJF"
      },
      "source": [
        "df2['Symbol_industry'] = df2['Symbol'].map(dik)\n",
        "df2.dropna(inplace=True)"
      ],
      "execution_count": 98,
      "outputs": []
    },
    {
      "cell_type": "code",
      "metadata": {
        "id": "1h-EZ1iLhIKx"
      },
      "source": [
        "df2['popularity'] = df2['Symbol'].map(dik_popularity)"
      ],
      "execution_count": 99,
      "outputs": []
    },
    {
      "cell_type": "code",
      "metadata": {
        "id": "4-GAP0iONiw7"
      },
      "source": [
        "#df2.to_csv(\"/content/drive/MyDrive/edav/results_data/parallel.csv\",index=False)"
      ],
      "execution_count": 100,
      "outputs": []
    }
  ]
}